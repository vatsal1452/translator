{
  "nbformat": 4,
  "nbformat_minor": 0,
  "metadata": {
    "colab": {
      "name": "translator English to hindi.ipynb",
      "provenance": [],
      "authorship_tag": "ABX9TyNLTH9Tu7/DbQx7Xo9G1huE",
      "include_colab_link": true
    },
    "kernelspec": {
      "name": "python3",
      "display_name": "Python 3"
    },
    "widgets": {
      "application/vnd.jupyter.widget-state+json": {
        "86301dc9732e45b98f721d6416fce7fe": {
          "model_module": "@jupyter-widgets/controls",
          "model_name": "HBoxModel",
          "model_module_version": "1.5.0",
          "state": {
            "_dom_classes": [],
            "_model_module": "@jupyter-widgets/controls",
            "_model_module_version": "1.5.0",
            "_model_name": "HBoxModel",
            "_view_count": null,
            "_view_module": "@jupyter-widgets/controls",
            "_view_module_version": "1.5.0",
            "_view_name": "HBoxView",
            "box_style": "",
            "children": [
              "IPY_MODEL_486fe3feaa574a08aad26392a92cc13e",
              "IPY_MODEL_265b360db7724605a6fa127c5f6d3c55",
              "IPY_MODEL_a6fabc0cc3d24dc79f36e5ca63de3f95"
            ],
            "layout": "IPY_MODEL_a10656ac9663487b841d64541ca2f651"
          }
        },
        "486fe3feaa574a08aad26392a92cc13e": {
          "model_module": "@jupyter-widgets/controls",
          "model_name": "HTMLModel",
          "model_module_version": "1.5.0",
          "state": {
            "_dom_classes": [],
            "_model_module": "@jupyter-widgets/controls",
            "_model_module_version": "1.5.0",
            "_model_name": "HTMLModel",
            "_view_count": null,
            "_view_module": "@jupyter-widgets/controls",
            "_view_module_version": "1.5.0",
            "_view_name": "HTMLView",
            "description": "",
            "description_tooltip": null,
            "layout": "IPY_MODEL_b52fd94784d4418ead6433ac5e7be9b7",
            "placeholder": "​",
            "style": "IPY_MODEL_7f67e65177d4409ab2891e5970371aba",
            "value": "Downloading: 100%"
          }
        },
        "265b360db7724605a6fa127c5f6d3c55": {
          "model_module": "@jupyter-widgets/controls",
          "model_name": "FloatProgressModel",
          "model_module_version": "1.5.0",
          "state": {
            "_dom_classes": [],
            "_model_module": "@jupyter-widgets/controls",
            "_model_module_version": "1.5.0",
            "_model_name": "FloatProgressModel",
            "_view_count": null,
            "_view_module": "@jupyter-widgets/controls",
            "_view_module_version": "1.5.0",
            "_view_name": "ProgressView",
            "bar_style": "success",
            "description": "",
            "description_tooltip": null,
            "layout": "IPY_MODEL_1ce75cb2570e48d2af95ebd6cc017e38",
            "max": 528,
            "min": 0,
            "orientation": "horizontal",
            "style": "IPY_MODEL_0d0b2fde35e14168bda056ae42c493ec",
            "value": 528
          }
        },
        "a6fabc0cc3d24dc79f36e5ca63de3f95": {
          "model_module": "@jupyter-widgets/controls",
          "model_name": "HTMLModel",
          "model_module_version": "1.5.0",
          "state": {
            "_dom_classes": [],
            "_model_module": "@jupyter-widgets/controls",
            "_model_module_version": "1.5.0",
            "_model_name": "HTMLModel",
            "_view_count": null,
            "_view_module": "@jupyter-widgets/controls",
            "_view_module_version": "1.5.0",
            "_view_name": "HTMLView",
            "description": "",
            "description_tooltip": null,
            "layout": "IPY_MODEL_b050fb37cdd84e5ebee1f52e1bcc8298",
            "placeholder": "​",
            "style": "IPY_MODEL_4f4f47f9683e4b2b92bad1df3761f2d7",
            "value": " 528/528 [00:00&lt;00:00, 12.2kB/s]"
          }
        },
        "a10656ac9663487b841d64541ca2f651": {
          "model_module": "@jupyter-widgets/base",
          "model_name": "LayoutModel",
          "model_module_version": "1.2.0",
          "state": {
            "_model_module": "@jupyter-widgets/base",
            "_model_module_version": "1.2.0",
            "_model_name": "LayoutModel",
            "_view_count": null,
            "_view_module": "@jupyter-widgets/base",
            "_view_module_version": "1.2.0",
            "_view_name": "LayoutView",
            "align_content": null,
            "align_items": null,
            "align_self": null,
            "border": null,
            "bottom": null,
            "display": null,
            "flex": null,
            "flex_flow": null,
            "grid_area": null,
            "grid_auto_columns": null,
            "grid_auto_flow": null,
            "grid_auto_rows": null,
            "grid_column": null,
            "grid_gap": null,
            "grid_row": null,
            "grid_template_areas": null,
            "grid_template_columns": null,
            "grid_template_rows": null,
            "height": null,
            "justify_content": null,
            "justify_items": null,
            "left": null,
            "margin": null,
            "max_height": null,
            "max_width": null,
            "min_height": null,
            "min_width": null,
            "object_fit": null,
            "object_position": null,
            "order": null,
            "overflow": null,
            "overflow_x": null,
            "overflow_y": null,
            "padding": null,
            "right": null,
            "top": null,
            "visibility": null,
            "width": null
          }
        },
        "b52fd94784d4418ead6433ac5e7be9b7": {
          "model_module": "@jupyter-widgets/base",
          "model_name": "LayoutModel",
          "model_module_version": "1.2.0",
          "state": {
            "_model_module": "@jupyter-widgets/base",
            "_model_module_version": "1.2.0",
            "_model_name": "LayoutModel",
            "_view_count": null,
            "_view_module": "@jupyter-widgets/base",
            "_view_module_version": "1.2.0",
            "_view_name": "LayoutView",
            "align_content": null,
            "align_items": null,
            "align_self": null,
            "border": null,
            "bottom": null,
            "display": null,
            "flex": null,
            "flex_flow": null,
            "grid_area": null,
            "grid_auto_columns": null,
            "grid_auto_flow": null,
            "grid_auto_rows": null,
            "grid_column": null,
            "grid_gap": null,
            "grid_row": null,
            "grid_template_areas": null,
            "grid_template_columns": null,
            "grid_template_rows": null,
            "height": null,
            "justify_content": null,
            "justify_items": null,
            "left": null,
            "margin": null,
            "max_height": null,
            "max_width": null,
            "min_height": null,
            "min_width": null,
            "object_fit": null,
            "object_position": null,
            "order": null,
            "overflow": null,
            "overflow_x": null,
            "overflow_y": null,
            "padding": null,
            "right": null,
            "top": null,
            "visibility": null,
            "width": null
          }
        },
        "7f67e65177d4409ab2891e5970371aba": {
          "model_module": "@jupyter-widgets/controls",
          "model_name": "DescriptionStyleModel",
          "model_module_version": "1.5.0",
          "state": {
            "_model_module": "@jupyter-widgets/controls",
            "_model_module_version": "1.5.0",
            "_model_name": "DescriptionStyleModel",
            "_view_count": null,
            "_view_module": "@jupyter-widgets/base",
            "_view_module_version": "1.2.0",
            "_view_name": "StyleView",
            "description_width": ""
          }
        },
        "1ce75cb2570e48d2af95ebd6cc017e38": {
          "model_module": "@jupyter-widgets/base",
          "model_name": "LayoutModel",
          "model_module_version": "1.2.0",
          "state": {
            "_model_module": "@jupyter-widgets/base",
            "_model_module_version": "1.2.0",
            "_model_name": "LayoutModel",
            "_view_count": null,
            "_view_module": "@jupyter-widgets/base",
            "_view_module_version": "1.2.0",
            "_view_name": "LayoutView",
            "align_content": null,
            "align_items": null,
            "align_self": null,
            "border": null,
            "bottom": null,
            "display": null,
            "flex": null,
            "flex_flow": null,
            "grid_area": null,
            "grid_auto_columns": null,
            "grid_auto_flow": null,
            "grid_auto_rows": null,
            "grid_column": null,
            "grid_gap": null,
            "grid_row": null,
            "grid_template_areas": null,
            "grid_template_columns": null,
            "grid_template_rows": null,
            "height": null,
            "justify_content": null,
            "justify_items": null,
            "left": null,
            "margin": null,
            "max_height": null,
            "max_width": null,
            "min_height": null,
            "min_width": null,
            "object_fit": null,
            "object_position": null,
            "order": null,
            "overflow": null,
            "overflow_x": null,
            "overflow_y": null,
            "padding": null,
            "right": null,
            "top": null,
            "visibility": null,
            "width": null
          }
        },
        "0d0b2fde35e14168bda056ae42c493ec": {
          "model_module": "@jupyter-widgets/controls",
          "model_name": "ProgressStyleModel",
          "model_module_version": "1.5.0",
          "state": {
            "_model_module": "@jupyter-widgets/controls",
            "_model_module_version": "1.5.0",
            "_model_name": "ProgressStyleModel",
            "_view_count": null,
            "_view_module": "@jupyter-widgets/base",
            "_view_module_version": "1.2.0",
            "_view_name": "StyleView",
            "bar_color": null,
            "description_width": ""
          }
        },
        "b050fb37cdd84e5ebee1f52e1bcc8298": {
          "model_module": "@jupyter-widgets/base",
          "model_name": "LayoutModel",
          "model_module_version": "1.2.0",
          "state": {
            "_model_module": "@jupyter-widgets/base",
            "_model_module_version": "1.2.0",
            "_model_name": "LayoutModel",
            "_view_count": null,
            "_view_module": "@jupyter-widgets/base",
            "_view_module_version": "1.2.0",
            "_view_name": "LayoutView",
            "align_content": null,
            "align_items": null,
            "align_self": null,
            "border": null,
            "bottom": null,
            "display": null,
            "flex": null,
            "flex_flow": null,
            "grid_area": null,
            "grid_auto_columns": null,
            "grid_auto_flow": null,
            "grid_auto_rows": null,
            "grid_column": null,
            "grid_gap": null,
            "grid_row": null,
            "grid_template_areas": null,
            "grid_template_columns": null,
            "grid_template_rows": null,
            "height": null,
            "justify_content": null,
            "justify_items": null,
            "left": null,
            "margin": null,
            "max_height": null,
            "max_width": null,
            "min_height": null,
            "min_width": null,
            "object_fit": null,
            "object_position": null,
            "order": null,
            "overflow": null,
            "overflow_x": null,
            "overflow_y": null,
            "padding": null,
            "right": null,
            "top": null,
            "visibility": null,
            "width": null
          }
        },
        "4f4f47f9683e4b2b92bad1df3761f2d7": {
          "model_module": "@jupyter-widgets/controls",
          "model_name": "DescriptionStyleModel",
          "model_module_version": "1.5.0",
          "state": {
            "_model_module": "@jupyter-widgets/controls",
            "_model_module_version": "1.5.0",
            "_model_name": "DescriptionStyleModel",
            "_view_count": null,
            "_view_module": "@jupyter-widgets/base",
            "_view_module_version": "1.2.0",
            "_view_name": "StyleView",
            "description_width": ""
          }
        },
        "85b03d7bba24482b9723aef3f22f1cc1": {
          "model_module": "@jupyter-widgets/controls",
          "model_name": "HBoxModel",
          "model_module_version": "1.5.0",
          "state": {
            "_dom_classes": [],
            "_model_module": "@jupyter-widgets/controls",
            "_model_module_version": "1.5.0",
            "_model_name": "HBoxModel",
            "_view_count": null,
            "_view_module": "@jupyter-widgets/controls",
            "_view_module_version": "1.5.0",
            "_view_name": "HBoxView",
            "box_style": "",
            "children": [
              "IPY_MODEL_ff2ac2a598714dd8be642f262eab5694",
              "IPY_MODEL_0b8ff19ab55e40eaadbc30c7401ede7a",
              "IPY_MODEL_a80ab91ab3f84d91acea1bc46449f9c9"
            ],
            "layout": "IPY_MODEL_745a713b87d840ea987c95d44623c17f"
          }
        },
        "ff2ac2a598714dd8be642f262eab5694": {
          "model_module": "@jupyter-widgets/controls",
          "model_name": "HTMLModel",
          "model_module_version": "1.5.0",
          "state": {
            "_dom_classes": [],
            "_model_module": "@jupyter-widgets/controls",
            "_model_module_version": "1.5.0",
            "_model_name": "HTMLModel",
            "_view_count": null,
            "_view_module": "@jupyter-widgets/controls",
            "_view_module_version": "1.5.0",
            "_view_name": "HTMLView",
            "description": "",
            "description_tooltip": null,
            "layout": "IPY_MODEL_f7636170c4874fafaebda9278fe06065",
            "placeholder": "​",
            "style": "IPY_MODEL_7082b9516cdc424dbac93786f0776651",
            "value": "Downloading: 100%"
          }
        },
        "0b8ff19ab55e40eaadbc30c7401ede7a": {
          "model_module": "@jupyter-widgets/controls",
          "model_name": "FloatProgressModel",
          "model_module_version": "1.5.0",
          "state": {
            "_dom_classes": [],
            "_model_module": "@jupyter-widgets/controls",
            "_model_module_version": "1.5.0",
            "_model_name": "FloatProgressModel",
            "_view_count": null,
            "_view_module": "@jupyter-widgets/controls",
            "_view_module_version": "1.5.0",
            "_view_name": "ProgressView",
            "bar_style": "success",
            "description": "",
            "description_tooltip": null,
            "layout": "IPY_MODEL_6a63bc89a6d14d92b3e334f5479e776e",
            "max": 5069051,
            "min": 0,
            "orientation": "horizontal",
            "style": "IPY_MODEL_e2047caf4c554fe88cc0b591ca18cc58",
            "value": 5069051
          }
        },
        "a80ab91ab3f84d91acea1bc46449f9c9": {
          "model_module": "@jupyter-widgets/controls",
          "model_name": "HTMLModel",
          "model_module_version": "1.5.0",
          "state": {
            "_dom_classes": [],
            "_model_module": "@jupyter-widgets/controls",
            "_model_module_version": "1.5.0",
            "_model_name": "HTMLModel",
            "_view_count": null,
            "_view_module": "@jupyter-widgets/controls",
            "_view_module_version": "1.5.0",
            "_view_name": "HTMLView",
            "description": "",
            "description_tooltip": null,
            "layout": "IPY_MODEL_744acd52bc8c4519b3bb480502e65236",
            "placeholder": "​",
            "style": "IPY_MODEL_f997cf3a70e646e5ae841cdc22ccc632",
            "value": " 4.83M/4.83M [00:00&lt;00:00, 15.9MB/s]"
          }
        },
        "745a713b87d840ea987c95d44623c17f": {
          "model_module": "@jupyter-widgets/base",
          "model_name": "LayoutModel",
          "model_module_version": "1.2.0",
          "state": {
            "_model_module": "@jupyter-widgets/base",
            "_model_module_version": "1.2.0",
            "_model_name": "LayoutModel",
            "_view_count": null,
            "_view_module": "@jupyter-widgets/base",
            "_view_module_version": "1.2.0",
            "_view_name": "LayoutView",
            "align_content": null,
            "align_items": null,
            "align_self": null,
            "border": null,
            "bottom": null,
            "display": null,
            "flex": null,
            "flex_flow": null,
            "grid_area": null,
            "grid_auto_columns": null,
            "grid_auto_flow": null,
            "grid_auto_rows": null,
            "grid_column": null,
            "grid_gap": null,
            "grid_row": null,
            "grid_template_areas": null,
            "grid_template_columns": null,
            "grid_template_rows": null,
            "height": null,
            "justify_content": null,
            "justify_items": null,
            "left": null,
            "margin": null,
            "max_height": null,
            "max_width": null,
            "min_height": null,
            "min_width": null,
            "object_fit": null,
            "object_position": null,
            "order": null,
            "overflow": null,
            "overflow_x": null,
            "overflow_y": null,
            "padding": null,
            "right": null,
            "top": null,
            "visibility": null,
            "width": null
          }
        },
        "f7636170c4874fafaebda9278fe06065": {
          "model_module": "@jupyter-widgets/base",
          "model_name": "LayoutModel",
          "model_module_version": "1.2.0",
          "state": {
            "_model_module": "@jupyter-widgets/base",
            "_model_module_version": "1.2.0",
            "_model_name": "LayoutModel",
            "_view_count": null,
            "_view_module": "@jupyter-widgets/base",
            "_view_module_version": "1.2.0",
            "_view_name": "LayoutView",
            "align_content": null,
            "align_items": null,
            "align_self": null,
            "border": null,
            "bottom": null,
            "display": null,
            "flex": null,
            "flex_flow": null,
            "grid_area": null,
            "grid_auto_columns": null,
            "grid_auto_flow": null,
            "grid_auto_rows": null,
            "grid_column": null,
            "grid_gap": null,
            "grid_row": null,
            "grid_template_areas": null,
            "grid_template_columns": null,
            "grid_template_rows": null,
            "height": null,
            "justify_content": null,
            "justify_items": null,
            "left": null,
            "margin": null,
            "max_height": null,
            "max_width": null,
            "min_height": null,
            "min_width": null,
            "object_fit": null,
            "object_position": null,
            "order": null,
            "overflow": null,
            "overflow_x": null,
            "overflow_y": null,
            "padding": null,
            "right": null,
            "top": null,
            "visibility": null,
            "width": null
          }
        },
        "7082b9516cdc424dbac93786f0776651": {
          "model_module": "@jupyter-widgets/controls",
          "model_name": "DescriptionStyleModel",
          "model_module_version": "1.5.0",
          "state": {
            "_model_module": "@jupyter-widgets/controls",
            "_model_module_version": "1.5.0",
            "_model_name": "DescriptionStyleModel",
            "_view_count": null,
            "_view_module": "@jupyter-widgets/base",
            "_view_module_version": "1.2.0",
            "_view_name": "StyleView",
            "description_width": ""
          }
        },
        "6a63bc89a6d14d92b3e334f5479e776e": {
          "model_module": "@jupyter-widgets/base",
          "model_name": "LayoutModel",
          "model_module_version": "1.2.0",
          "state": {
            "_model_module": "@jupyter-widgets/base",
            "_model_module_version": "1.2.0",
            "_model_name": "LayoutModel",
            "_view_count": null,
            "_view_module": "@jupyter-widgets/base",
            "_view_module_version": "1.2.0",
            "_view_name": "LayoutView",
            "align_content": null,
            "align_items": null,
            "align_self": null,
            "border": null,
            "bottom": null,
            "display": null,
            "flex": null,
            "flex_flow": null,
            "grid_area": null,
            "grid_auto_columns": null,
            "grid_auto_flow": null,
            "grid_auto_rows": null,
            "grid_column": null,
            "grid_gap": null,
            "grid_row": null,
            "grid_template_areas": null,
            "grid_template_columns": null,
            "grid_template_rows": null,
            "height": null,
            "justify_content": null,
            "justify_items": null,
            "left": null,
            "margin": null,
            "max_height": null,
            "max_width": null,
            "min_height": null,
            "min_width": null,
            "object_fit": null,
            "object_position": null,
            "order": null,
            "overflow": null,
            "overflow_x": null,
            "overflow_y": null,
            "padding": null,
            "right": null,
            "top": null,
            "visibility": null,
            "width": null
          }
        },
        "e2047caf4c554fe88cc0b591ca18cc58": {
          "model_module": "@jupyter-widgets/controls",
          "model_name": "ProgressStyleModel",
          "model_module_version": "1.5.0",
          "state": {
            "_model_module": "@jupyter-widgets/controls",
            "_model_module_version": "1.5.0",
            "_model_name": "ProgressStyleModel",
            "_view_count": null,
            "_view_module": "@jupyter-widgets/base",
            "_view_module_version": "1.2.0",
            "_view_name": "StyleView",
            "bar_color": null,
            "description_width": ""
          }
        },
        "744acd52bc8c4519b3bb480502e65236": {
          "model_module": "@jupyter-widgets/base",
          "model_name": "LayoutModel",
          "model_module_version": "1.2.0",
          "state": {
            "_model_module": "@jupyter-widgets/base",
            "_model_module_version": "1.2.0",
            "_model_name": "LayoutModel",
            "_view_count": null,
            "_view_module": "@jupyter-widgets/base",
            "_view_module_version": "1.2.0",
            "_view_name": "LayoutView",
            "align_content": null,
            "align_items": null,
            "align_self": null,
            "border": null,
            "bottom": null,
            "display": null,
            "flex": null,
            "flex_flow": null,
            "grid_area": null,
            "grid_auto_columns": null,
            "grid_auto_flow": null,
            "grid_auto_rows": null,
            "grid_column": null,
            "grid_gap": null,
            "grid_row": null,
            "grid_template_areas": null,
            "grid_template_columns": null,
            "grid_template_rows": null,
            "height": null,
            "justify_content": null,
            "justify_items": null,
            "left": null,
            "margin": null,
            "max_height": null,
            "max_width": null,
            "min_height": null,
            "min_width": null,
            "object_fit": null,
            "object_position": null,
            "order": null,
            "overflow": null,
            "overflow_x": null,
            "overflow_y": null,
            "padding": null,
            "right": null,
            "top": null,
            "visibility": null,
            "width": null
          }
        },
        "f997cf3a70e646e5ae841cdc22ccc632": {
          "model_module": "@jupyter-widgets/controls",
          "model_name": "DescriptionStyleModel",
          "model_module_version": "1.5.0",
          "state": {
            "_model_module": "@jupyter-widgets/controls",
            "_model_module_version": "1.5.0",
            "_model_name": "DescriptionStyleModel",
            "_view_count": null,
            "_view_module": "@jupyter-widgets/base",
            "_view_module_version": "1.2.0",
            "_view_name": "StyleView",
            "description_width": ""
          }
        },
        "5ca0e4adba4e4db89ff4955fcda50628": {
          "model_module": "@jupyter-widgets/controls",
          "model_name": "HBoxModel",
          "model_module_version": "1.5.0",
          "state": {
            "_dom_classes": [],
            "_model_module": "@jupyter-widgets/controls",
            "_model_module_version": "1.5.0",
            "_model_name": "HBoxModel",
            "_view_count": null,
            "_view_module": "@jupyter-widgets/controls",
            "_view_module_version": "1.5.0",
            "_view_name": "HBoxView",
            "box_style": "",
            "children": [
              "IPY_MODEL_bbbd0cc160ae4182822e8acb2ba102ce",
              "IPY_MODEL_8afc1606bf89446d88f92825e090df05",
              "IPY_MODEL_4c10fd2124454ddcbb2997a960baaaa9"
            ],
            "layout": "IPY_MODEL_402fdf571803486d9ff7b13870599be9"
          }
        },
        "bbbd0cc160ae4182822e8acb2ba102ce": {
          "model_module": "@jupyter-widgets/controls",
          "model_name": "HTMLModel",
          "model_module_version": "1.5.0",
          "state": {
            "_dom_classes": [],
            "_model_module": "@jupyter-widgets/controls",
            "_model_module_version": "1.5.0",
            "_model_name": "HTMLModel",
            "_view_count": null,
            "_view_module": "@jupyter-widgets/controls",
            "_view_module_version": "1.5.0",
            "_view_name": "HTMLView",
            "description": "",
            "description_tooltip": null,
            "layout": "IPY_MODEL_0de5729a89d8479faed9d9ea4258df0f",
            "placeholder": "​",
            "style": "IPY_MODEL_4772ba55685a4df2ba7c2aa0be46d151",
            "value": "Downloading: 100%"
          }
        },
        "8afc1606bf89446d88f92825e090df05": {
          "model_module": "@jupyter-widgets/controls",
          "model_name": "FloatProgressModel",
          "model_module_version": "1.5.0",
          "state": {
            "_dom_classes": [],
            "_model_module": "@jupyter-widgets/controls",
            "_model_module_version": "1.5.0",
            "_model_name": "FloatProgressModel",
            "_view_count": null,
            "_view_module": "@jupyter-widgets/controls",
            "_view_module_version": "1.5.0",
            "_view_name": "ProgressView",
            "bar_style": "success",
            "description": "",
            "description_tooltip": null,
            "layout": "IPY_MODEL_2170a13befcc47b9bfc76e1d65d8889c",
            "max": 717,
            "min": 0,
            "orientation": "horizontal",
            "style": "IPY_MODEL_5021a9eb77b94ed59378e45357c93e84",
            "value": 717
          }
        },
        "4c10fd2124454ddcbb2997a960baaaa9": {
          "model_module": "@jupyter-widgets/controls",
          "model_name": "HTMLModel",
          "model_module_version": "1.5.0",
          "state": {
            "_dom_classes": [],
            "_model_module": "@jupyter-widgets/controls",
            "_model_module_version": "1.5.0",
            "_model_name": "HTMLModel",
            "_view_count": null,
            "_view_module": "@jupyter-widgets/controls",
            "_view_module_version": "1.5.0",
            "_view_name": "HTMLView",
            "description": "",
            "description_tooltip": null,
            "layout": "IPY_MODEL_a20b548371b14090ba3d77c43ff2cbce",
            "placeholder": "​",
            "style": "IPY_MODEL_89e4c935573f4ad8a2db5ba9177c8050",
            "value": " 717/717 [00:00&lt;00:00, 15.7kB/s]"
          }
        },
        "402fdf571803486d9ff7b13870599be9": {
          "model_module": "@jupyter-widgets/base",
          "model_name": "LayoutModel",
          "model_module_version": "1.2.0",
          "state": {
            "_model_module": "@jupyter-widgets/base",
            "_model_module_version": "1.2.0",
            "_model_name": "LayoutModel",
            "_view_count": null,
            "_view_module": "@jupyter-widgets/base",
            "_view_module_version": "1.2.0",
            "_view_name": "LayoutView",
            "align_content": null,
            "align_items": null,
            "align_self": null,
            "border": null,
            "bottom": null,
            "display": null,
            "flex": null,
            "flex_flow": null,
            "grid_area": null,
            "grid_auto_columns": null,
            "grid_auto_flow": null,
            "grid_auto_rows": null,
            "grid_column": null,
            "grid_gap": null,
            "grid_row": null,
            "grid_template_areas": null,
            "grid_template_columns": null,
            "grid_template_rows": null,
            "height": null,
            "justify_content": null,
            "justify_items": null,
            "left": null,
            "margin": null,
            "max_height": null,
            "max_width": null,
            "min_height": null,
            "min_width": null,
            "object_fit": null,
            "object_position": null,
            "order": null,
            "overflow": null,
            "overflow_x": null,
            "overflow_y": null,
            "padding": null,
            "right": null,
            "top": null,
            "visibility": null,
            "width": null
          }
        },
        "0de5729a89d8479faed9d9ea4258df0f": {
          "model_module": "@jupyter-widgets/base",
          "model_name": "LayoutModel",
          "model_module_version": "1.2.0",
          "state": {
            "_model_module": "@jupyter-widgets/base",
            "_model_module_version": "1.2.0",
            "_model_name": "LayoutModel",
            "_view_count": null,
            "_view_module": "@jupyter-widgets/base",
            "_view_module_version": "1.2.0",
            "_view_name": "LayoutView",
            "align_content": null,
            "align_items": null,
            "align_self": null,
            "border": null,
            "bottom": null,
            "display": null,
            "flex": null,
            "flex_flow": null,
            "grid_area": null,
            "grid_auto_columns": null,
            "grid_auto_flow": null,
            "grid_auto_rows": null,
            "grid_column": null,
            "grid_gap": null,
            "grid_row": null,
            "grid_template_areas": null,
            "grid_template_columns": null,
            "grid_template_rows": null,
            "height": null,
            "justify_content": null,
            "justify_items": null,
            "left": null,
            "margin": null,
            "max_height": null,
            "max_width": null,
            "min_height": null,
            "min_width": null,
            "object_fit": null,
            "object_position": null,
            "order": null,
            "overflow": null,
            "overflow_x": null,
            "overflow_y": null,
            "padding": null,
            "right": null,
            "top": null,
            "visibility": null,
            "width": null
          }
        },
        "4772ba55685a4df2ba7c2aa0be46d151": {
          "model_module": "@jupyter-widgets/controls",
          "model_name": "DescriptionStyleModel",
          "model_module_version": "1.5.0",
          "state": {
            "_model_module": "@jupyter-widgets/controls",
            "_model_module_version": "1.5.0",
            "_model_name": "DescriptionStyleModel",
            "_view_count": null,
            "_view_module": "@jupyter-widgets/base",
            "_view_module_version": "1.2.0",
            "_view_name": "StyleView",
            "description_width": ""
          }
        },
        "2170a13befcc47b9bfc76e1d65d8889c": {
          "model_module": "@jupyter-widgets/base",
          "model_name": "LayoutModel",
          "model_module_version": "1.2.0",
          "state": {
            "_model_module": "@jupyter-widgets/base",
            "_model_module_version": "1.2.0",
            "_model_name": "LayoutModel",
            "_view_count": null,
            "_view_module": "@jupyter-widgets/base",
            "_view_module_version": "1.2.0",
            "_view_name": "LayoutView",
            "align_content": null,
            "align_items": null,
            "align_self": null,
            "border": null,
            "bottom": null,
            "display": null,
            "flex": null,
            "flex_flow": null,
            "grid_area": null,
            "grid_auto_columns": null,
            "grid_auto_flow": null,
            "grid_auto_rows": null,
            "grid_column": null,
            "grid_gap": null,
            "grid_row": null,
            "grid_template_areas": null,
            "grid_template_columns": null,
            "grid_template_rows": null,
            "height": null,
            "justify_content": null,
            "justify_items": null,
            "left": null,
            "margin": null,
            "max_height": null,
            "max_width": null,
            "min_height": null,
            "min_width": null,
            "object_fit": null,
            "object_position": null,
            "order": null,
            "overflow": null,
            "overflow_x": null,
            "overflow_y": null,
            "padding": null,
            "right": null,
            "top": null,
            "visibility": null,
            "width": null
          }
        },
        "5021a9eb77b94ed59378e45357c93e84": {
          "model_module": "@jupyter-widgets/controls",
          "model_name": "ProgressStyleModel",
          "model_module_version": "1.5.0",
          "state": {
            "_model_module": "@jupyter-widgets/controls",
            "_model_module_version": "1.5.0",
            "_model_name": "ProgressStyleModel",
            "_view_count": null,
            "_view_module": "@jupyter-widgets/base",
            "_view_module_version": "1.2.0",
            "_view_name": "StyleView",
            "bar_color": null,
            "description_width": ""
          }
        },
        "a20b548371b14090ba3d77c43ff2cbce": {
          "model_module": "@jupyter-widgets/base",
          "model_name": "LayoutModel",
          "model_module_version": "1.2.0",
          "state": {
            "_model_module": "@jupyter-widgets/base",
            "_model_module_version": "1.2.0",
            "_model_name": "LayoutModel",
            "_view_count": null,
            "_view_module": "@jupyter-widgets/base",
            "_view_module_version": "1.2.0",
            "_view_name": "LayoutView",
            "align_content": null,
            "align_items": null,
            "align_self": null,
            "border": null,
            "bottom": null,
            "display": null,
            "flex": null,
            "flex_flow": null,
            "grid_area": null,
            "grid_auto_columns": null,
            "grid_auto_flow": null,
            "grid_auto_rows": null,
            "grid_column": null,
            "grid_gap": null,
            "grid_row": null,
            "grid_template_areas": null,
            "grid_template_columns": null,
            "grid_template_rows": null,
            "height": null,
            "justify_content": null,
            "justify_items": null,
            "left": null,
            "margin": null,
            "max_height": null,
            "max_width": null,
            "min_height": null,
            "min_width": null,
            "object_fit": null,
            "object_position": null,
            "order": null,
            "overflow": null,
            "overflow_x": null,
            "overflow_y": null,
            "padding": null,
            "right": null,
            "top": null,
            "visibility": null,
            "width": null
          }
        },
        "89e4c935573f4ad8a2db5ba9177c8050": {
          "model_module": "@jupyter-widgets/controls",
          "model_name": "DescriptionStyleModel",
          "model_module_version": "1.5.0",
          "state": {
            "_model_module": "@jupyter-widgets/controls",
            "_model_module_version": "1.5.0",
            "_model_name": "DescriptionStyleModel",
            "_view_count": null,
            "_view_module": "@jupyter-widgets/base",
            "_view_module_version": "1.2.0",
            "_view_name": "StyleView",
            "description_width": ""
          }
        },
        "b7277af02a094872b447bc637f9e4ce5": {
          "model_module": "@jupyter-widgets/controls",
          "model_name": "HBoxModel",
          "model_module_version": "1.5.0",
          "state": {
            "_dom_classes": [],
            "_model_module": "@jupyter-widgets/controls",
            "_model_module_version": "1.5.0",
            "_model_name": "HBoxModel",
            "_view_count": null,
            "_view_module": "@jupyter-widgets/controls",
            "_view_module_version": "1.5.0",
            "_view_name": "HBoxView",
            "box_style": "",
            "children": [
              "IPY_MODEL_ee5e4c4fc3654d72ac778688cf9450cf",
              "IPY_MODEL_47e9b2ea5bed4e51b8898c01f8fba92c",
              "IPY_MODEL_15252e224c7d48eaa60519f621ae8017"
            ],
            "layout": "IPY_MODEL_1174d3288b294bc288b0435a67bfff3c"
          }
        },
        "ee5e4c4fc3654d72ac778688cf9450cf": {
          "model_module": "@jupyter-widgets/controls",
          "model_name": "HTMLModel",
          "model_module_version": "1.5.0",
          "state": {
            "_dom_classes": [],
            "_model_module": "@jupyter-widgets/controls",
            "_model_module_version": "1.5.0",
            "_model_name": "HTMLModel",
            "_view_count": null,
            "_view_module": "@jupyter-widgets/controls",
            "_view_module_version": "1.5.0",
            "_view_name": "HTMLView",
            "description": "",
            "description_tooltip": null,
            "layout": "IPY_MODEL_46f4bfc8e8944bda8731c654f30062f8",
            "placeholder": "​",
            "style": "IPY_MODEL_019d842d156045e2ad36f9ca4eaaa19a",
            "value": "Downloading: 100%"
          }
        },
        "47e9b2ea5bed4e51b8898c01f8fba92c": {
          "model_module": "@jupyter-widgets/controls",
          "model_name": "FloatProgressModel",
          "model_module_version": "1.5.0",
          "state": {
            "_dom_classes": [],
            "_model_module": "@jupyter-widgets/controls",
            "_model_module_version": "1.5.0",
            "_model_name": "FloatProgressModel",
            "_view_count": null,
            "_view_module": "@jupyter-widgets/controls",
            "_view_module_version": "1.5.0",
            "_view_name": "ProgressView",
            "bar_style": "success",
            "description": "",
            "description_tooltip": null,
            "layout": "IPY_MODEL_a196f32396614427a5294cc350c345d7",
            "max": 1428,
            "min": 0,
            "orientation": "horizontal",
            "style": "IPY_MODEL_dec3d074727c400fbf9d954455e50267",
            "value": 1428
          }
        },
        "15252e224c7d48eaa60519f621ae8017": {
          "model_module": "@jupyter-widgets/controls",
          "model_name": "HTMLModel",
          "model_module_version": "1.5.0",
          "state": {
            "_dom_classes": [],
            "_model_module": "@jupyter-widgets/controls",
            "_model_module_version": "1.5.0",
            "_model_name": "HTMLModel",
            "_view_count": null,
            "_view_module": "@jupyter-widgets/controls",
            "_view_module_version": "1.5.0",
            "_view_name": "HTMLView",
            "description": "",
            "description_tooltip": null,
            "layout": "IPY_MODEL_f7534c1c8d1443b7ad95923204a397b8",
            "placeholder": "​",
            "style": "IPY_MODEL_43ef858125af46a68ebbc60b86667d0f",
            "value": " 1.39k/1.39k [00:00&lt;00:00, 42.1kB/s]"
          }
        },
        "1174d3288b294bc288b0435a67bfff3c": {
          "model_module": "@jupyter-widgets/base",
          "model_name": "LayoutModel",
          "model_module_version": "1.2.0",
          "state": {
            "_model_module": "@jupyter-widgets/base",
            "_model_module_version": "1.2.0",
            "_model_name": "LayoutModel",
            "_view_count": null,
            "_view_module": "@jupyter-widgets/base",
            "_view_module_version": "1.2.0",
            "_view_name": "LayoutView",
            "align_content": null,
            "align_items": null,
            "align_self": null,
            "border": null,
            "bottom": null,
            "display": null,
            "flex": null,
            "flex_flow": null,
            "grid_area": null,
            "grid_auto_columns": null,
            "grid_auto_flow": null,
            "grid_auto_rows": null,
            "grid_column": null,
            "grid_gap": null,
            "grid_row": null,
            "grid_template_areas": null,
            "grid_template_columns": null,
            "grid_template_rows": null,
            "height": null,
            "justify_content": null,
            "justify_items": null,
            "left": null,
            "margin": null,
            "max_height": null,
            "max_width": null,
            "min_height": null,
            "min_width": null,
            "object_fit": null,
            "object_position": null,
            "order": null,
            "overflow": null,
            "overflow_x": null,
            "overflow_y": null,
            "padding": null,
            "right": null,
            "top": null,
            "visibility": null,
            "width": null
          }
        },
        "46f4bfc8e8944bda8731c654f30062f8": {
          "model_module": "@jupyter-widgets/base",
          "model_name": "LayoutModel",
          "model_module_version": "1.2.0",
          "state": {
            "_model_module": "@jupyter-widgets/base",
            "_model_module_version": "1.2.0",
            "_model_name": "LayoutModel",
            "_view_count": null,
            "_view_module": "@jupyter-widgets/base",
            "_view_module_version": "1.2.0",
            "_view_name": "LayoutView",
            "align_content": null,
            "align_items": null,
            "align_self": null,
            "border": null,
            "bottom": null,
            "display": null,
            "flex": null,
            "flex_flow": null,
            "grid_area": null,
            "grid_auto_columns": null,
            "grid_auto_flow": null,
            "grid_auto_rows": null,
            "grid_column": null,
            "grid_gap": null,
            "grid_row": null,
            "grid_template_areas": null,
            "grid_template_columns": null,
            "grid_template_rows": null,
            "height": null,
            "justify_content": null,
            "justify_items": null,
            "left": null,
            "margin": null,
            "max_height": null,
            "max_width": null,
            "min_height": null,
            "min_width": null,
            "object_fit": null,
            "object_position": null,
            "order": null,
            "overflow": null,
            "overflow_x": null,
            "overflow_y": null,
            "padding": null,
            "right": null,
            "top": null,
            "visibility": null,
            "width": null
          }
        },
        "019d842d156045e2ad36f9ca4eaaa19a": {
          "model_module": "@jupyter-widgets/controls",
          "model_name": "DescriptionStyleModel",
          "model_module_version": "1.5.0",
          "state": {
            "_model_module": "@jupyter-widgets/controls",
            "_model_module_version": "1.5.0",
            "_model_name": "DescriptionStyleModel",
            "_view_count": null,
            "_view_module": "@jupyter-widgets/base",
            "_view_module_version": "1.2.0",
            "_view_name": "StyleView",
            "description_width": ""
          }
        },
        "a196f32396614427a5294cc350c345d7": {
          "model_module": "@jupyter-widgets/base",
          "model_name": "LayoutModel",
          "model_module_version": "1.2.0",
          "state": {
            "_model_module": "@jupyter-widgets/base",
            "_model_module_version": "1.2.0",
            "_model_name": "LayoutModel",
            "_view_count": null,
            "_view_module": "@jupyter-widgets/base",
            "_view_module_version": "1.2.0",
            "_view_name": "LayoutView",
            "align_content": null,
            "align_items": null,
            "align_self": null,
            "border": null,
            "bottom": null,
            "display": null,
            "flex": null,
            "flex_flow": null,
            "grid_area": null,
            "grid_auto_columns": null,
            "grid_auto_flow": null,
            "grid_auto_rows": null,
            "grid_column": null,
            "grid_gap": null,
            "grid_row": null,
            "grid_template_areas": null,
            "grid_template_columns": null,
            "grid_template_rows": null,
            "height": null,
            "justify_content": null,
            "justify_items": null,
            "left": null,
            "margin": null,
            "max_height": null,
            "max_width": null,
            "min_height": null,
            "min_width": null,
            "object_fit": null,
            "object_position": null,
            "order": null,
            "overflow": null,
            "overflow_x": null,
            "overflow_y": null,
            "padding": null,
            "right": null,
            "top": null,
            "visibility": null,
            "width": null
          }
        },
        "dec3d074727c400fbf9d954455e50267": {
          "model_module": "@jupyter-widgets/controls",
          "model_name": "ProgressStyleModel",
          "model_module_version": "1.5.0",
          "state": {
            "_model_module": "@jupyter-widgets/controls",
            "_model_module_version": "1.5.0",
            "_model_name": "ProgressStyleModel",
            "_view_count": null,
            "_view_module": "@jupyter-widgets/base",
            "_view_module_version": "1.2.0",
            "_view_name": "StyleView",
            "bar_color": null,
            "description_width": ""
          }
        },
        "f7534c1c8d1443b7ad95923204a397b8": {
          "model_module": "@jupyter-widgets/base",
          "model_name": "LayoutModel",
          "model_module_version": "1.2.0",
          "state": {
            "_model_module": "@jupyter-widgets/base",
            "_model_module_version": "1.2.0",
            "_model_name": "LayoutModel",
            "_view_count": null,
            "_view_module": "@jupyter-widgets/base",
            "_view_module_version": "1.2.0",
            "_view_name": "LayoutView",
            "align_content": null,
            "align_items": null,
            "align_self": null,
            "border": null,
            "bottom": null,
            "display": null,
            "flex": null,
            "flex_flow": null,
            "grid_area": null,
            "grid_auto_columns": null,
            "grid_auto_flow": null,
            "grid_auto_rows": null,
            "grid_column": null,
            "grid_gap": null,
            "grid_row": null,
            "grid_template_areas": null,
            "grid_template_columns": null,
            "grid_template_rows": null,
            "height": null,
            "justify_content": null,
            "justify_items": null,
            "left": null,
            "margin": null,
            "max_height": null,
            "max_width": null,
            "min_height": null,
            "min_width": null,
            "object_fit": null,
            "object_position": null,
            "order": null,
            "overflow": null,
            "overflow_x": null,
            "overflow_y": null,
            "padding": null,
            "right": null,
            "top": null,
            "visibility": null,
            "width": null
          }
        },
        "43ef858125af46a68ebbc60b86667d0f": {
          "model_module": "@jupyter-widgets/controls",
          "model_name": "DescriptionStyleModel",
          "model_module_version": "1.5.0",
          "state": {
            "_model_module": "@jupyter-widgets/controls",
            "_model_module_version": "1.5.0",
            "_model_name": "DescriptionStyleModel",
            "_view_count": null,
            "_view_module": "@jupyter-widgets/base",
            "_view_module_version": "1.2.0",
            "_view_name": "StyleView",
            "description_width": ""
          }
        }
      }
    }
  },
  "cells": [
    {
      "cell_type": "markdown",
      "metadata": {
        "id": "view-in-github",
        "colab_type": "text"
      },
      "source": [
        "<a href=\"https://colab.research.google.com/github/vatsal1452/translator/blob/main/translator_English_to_hindi.ipynb\" target=\"_parent\"><img src=\"https://colab.research.google.com/assets/colab-badge.svg\" alt=\"Open In Colab\"/></a>"
      ]
    },
    {
      "cell_type": "markdown",
      "source": [
        "Installing all requried  package using pip for cpu"
      ],
      "metadata": {
        "id": "684gFxWhwYut"
      }
    },
    {
      "cell_type": "code",
      "metadata": {
        "id": "kbQDHuoX8Pv6",
        "colab": {
          "base_uri": "https://localhost:8080/"
        },
        "outputId": "682e99ab-67aa-497b-a6d3-2f909d163c16"
      },
      "source": [
        "pip install transformers -U -q"
      ],
      "execution_count": null,
      "outputs": [
        {
          "output_type": "stream",
          "name": "stdout",
          "text": [
            "\u001b[K     |████████████████████████████████| 4.0 MB 13.0 MB/s \n",
            "\u001b[K     |████████████████████████████████| 6.5 MB 21.9 MB/s \n",
            "\u001b[K     |████████████████████████████████| 77 kB 5.6 MB/s \n",
            "\u001b[K     |████████████████████████████████| 895 kB 67.0 MB/s \n",
            "\u001b[K     |████████████████████████████████| 596 kB 60.6 MB/s \n",
            "\u001b[?25h"
          ]
        }
      ]
    },
    {
      "cell_type": "code",
      "source": [
        "! pip install sentencepiece"
      ],
      "metadata": {
        "colab": {
          "base_uri": "https://localhost:8080/"
        },
        "id": "3hZSnv70pMs5",
        "outputId": "0f860a6f-6d33-4e0e-bb9f-86707fc4453e"
      },
      "execution_count": null,
      "outputs": [
        {
          "output_type": "stream",
          "name": "stdout",
          "text": [
            "Collecting sentencepiece\n",
            "  Downloading sentencepiece-0.1.96-cp37-cp37m-manylinux_2_17_x86_64.manylinux2014_x86_64.whl (1.2 MB)\n",
            "\u001b[?25l\r\u001b[K     |▎                               | 10 kB 26.9 MB/s eta 0:00:01\r\u001b[K     |▌                               | 20 kB 34.8 MB/s eta 0:00:01\r\u001b[K     |▉                               | 30 kB 20.7 MB/s eta 0:00:01\r\u001b[K     |█                               | 40 kB 20.4 MB/s eta 0:00:01\r\u001b[K     |█▍                              | 51 kB 11.5 MB/s eta 0:00:01\r\u001b[K     |█▋                              | 61 kB 13.5 MB/s eta 0:00:01\r\u001b[K     |██                              | 71 kB 11.8 MB/s eta 0:00:01\r\u001b[K     |██▏                             | 81 kB 11.1 MB/s eta 0:00:01\r\u001b[K     |██▍                             | 92 kB 12.2 MB/s eta 0:00:01\r\u001b[K     |██▊                             | 102 kB 12.2 MB/s eta 0:00:01\r\u001b[K     |███                             | 112 kB 12.2 MB/s eta 0:00:01\r\u001b[K     |███▎                            | 122 kB 12.2 MB/s eta 0:00:01\r\u001b[K     |███▌                            | 133 kB 12.2 MB/s eta 0:00:01\r\u001b[K     |███▉                            | 143 kB 12.2 MB/s eta 0:00:01\r\u001b[K     |████                            | 153 kB 12.2 MB/s eta 0:00:01\r\u001b[K     |████▎                           | 163 kB 12.2 MB/s eta 0:00:01\r\u001b[K     |████▋                           | 174 kB 12.2 MB/s eta 0:00:01\r\u001b[K     |████▉                           | 184 kB 12.2 MB/s eta 0:00:01\r\u001b[K     |█████▏                          | 194 kB 12.2 MB/s eta 0:00:01\r\u001b[K     |█████▍                          | 204 kB 12.2 MB/s eta 0:00:01\r\u001b[K     |█████▊                          | 215 kB 12.2 MB/s eta 0:00:01\r\u001b[K     |██████                          | 225 kB 12.2 MB/s eta 0:00:01\r\u001b[K     |██████▏                         | 235 kB 12.2 MB/s eta 0:00:01\r\u001b[K     |██████▌                         | 245 kB 12.2 MB/s eta 0:00:01\r\u001b[K     |██████▊                         | 256 kB 12.2 MB/s eta 0:00:01\r\u001b[K     |███████                         | 266 kB 12.2 MB/s eta 0:00:01\r\u001b[K     |███████▎                        | 276 kB 12.2 MB/s eta 0:00:01\r\u001b[K     |███████▋                        | 286 kB 12.2 MB/s eta 0:00:01\r\u001b[K     |███████▉                        | 296 kB 12.2 MB/s eta 0:00:01\r\u001b[K     |████████                        | 307 kB 12.2 MB/s eta 0:00:01\r\u001b[K     |████████▍                       | 317 kB 12.2 MB/s eta 0:00:01\r\u001b[K     |████████▋                       | 327 kB 12.2 MB/s eta 0:00:01\r\u001b[K     |█████████                       | 337 kB 12.2 MB/s eta 0:00:01\r\u001b[K     |█████████▏                      | 348 kB 12.2 MB/s eta 0:00:01\r\u001b[K     |█████████▌                      | 358 kB 12.2 MB/s eta 0:00:01\r\u001b[K     |█████████▊                      | 368 kB 12.2 MB/s eta 0:00:01\r\u001b[K     |██████████                      | 378 kB 12.2 MB/s eta 0:00:01\r\u001b[K     |██████████▎                     | 389 kB 12.2 MB/s eta 0:00:01\r\u001b[K     |██████████▌                     | 399 kB 12.2 MB/s eta 0:00:01\r\u001b[K     |██████████▉                     | 409 kB 12.2 MB/s eta 0:00:01\r\u001b[K     |███████████                     | 419 kB 12.2 MB/s eta 0:00:01\r\u001b[K     |███████████▍                    | 430 kB 12.2 MB/s eta 0:00:01\r\u001b[K     |███████████▋                    | 440 kB 12.2 MB/s eta 0:00:01\r\u001b[K     |███████████▉                    | 450 kB 12.2 MB/s eta 0:00:01\r\u001b[K     |████████████▏                   | 460 kB 12.2 MB/s eta 0:00:01\r\u001b[K     |████████████▍                   | 471 kB 12.2 MB/s eta 0:00:01\r\u001b[K     |████████████▊                   | 481 kB 12.2 MB/s eta 0:00:01\r\u001b[K     |█████████████                   | 491 kB 12.2 MB/s eta 0:00:01\r\u001b[K     |█████████████▎                  | 501 kB 12.2 MB/s eta 0:00:01\r\u001b[K     |█████████████▌                  | 512 kB 12.2 MB/s eta 0:00:01\r\u001b[K     |█████████████▊                  | 522 kB 12.2 MB/s eta 0:00:01\r\u001b[K     |██████████████                  | 532 kB 12.2 MB/s eta 0:00:01\r\u001b[K     |██████████████▎                 | 542 kB 12.2 MB/s eta 0:00:01\r\u001b[K     |██████████████▋                 | 552 kB 12.2 MB/s eta 0:00:01\r\u001b[K     |██████████████▉                 | 563 kB 12.2 MB/s eta 0:00:01\r\u001b[K     |███████████████▏                | 573 kB 12.2 MB/s eta 0:00:01\r\u001b[K     |███████████████▍                | 583 kB 12.2 MB/s eta 0:00:01\r\u001b[K     |███████████████▋                | 593 kB 12.2 MB/s eta 0:00:01\r\u001b[K     |████████████████                | 604 kB 12.2 MB/s eta 0:00:01\r\u001b[K     |████████████████▏               | 614 kB 12.2 MB/s eta 0:00:01\r\u001b[K     |████████████████▌               | 624 kB 12.2 MB/s eta 0:00:01\r\u001b[K     |████████████████▊               | 634 kB 12.2 MB/s eta 0:00:01\r\u001b[K     |█████████████████               | 645 kB 12.2 MB/s eta 0:00:01\r\u001b[K     |█████████████████▎              | 655 kB 12.2 MB/s eta 0:00:01\r\u001b[K     |█████████████████▌              | 665 kB 12.2 MB/s eta 0:00:01\r\u001b[K     |█████████████████▉              | 675 kB 12.2 MB/s eta 0:00:01\r\u001b[K     |██████████████████              | 686 kB 12.2 MB/s eta 0:00:01\r\u001b[K     |██████████████████▍             | 696 kB 12.2 MB/s eta 0:00:01\r\u001b[K     |██████████████████▋             | 706 kB 12.2 MB/s eta 0:00:01\r\u001b[K     |███████████████████             | 716 kB 12.2 MB/s eta 0:00:01\r\u001b[K     |███████████████████▏            | 727 kB 12.2 MB/s eta 0:00:01\r\u001b[K     |███████████████████▍            | 737 kB 12.2 MB/s eta 0:00:01\r\u001b[K     |███████████████████▊            | 747 kB 12.2 MB/s eta 0:00:01\r\u001b[K     |████████████████████            | 757 kB 12.2 MB/s eta 0:00:01\r\u001b[K     |████████████████████▎           | 768 kB 12.2 MB/s eta 0:00:01\r\u001b[K     |████████████████████▌           | 778 kB 12.2 MB/s eta 0:00:01\r\u001b[K     |████████████████████▉           | 788 kB 12.2 MB/s eta 0:00:01\r\u001b[K     |█████████████████████           | 798 kB 12.2 MB/s eta 0:00:01\r\u001b[K     |█████████████████████▎          | 808 kB 12.2 MB/s eta 0:00:01\r\u001b[K     |█████████████████████▋          | 819 kB 12.2 MB/s eta 0:00:01\r\u001b[K     |█████████████████████▉          | 829 kB 12.2 MB/s eta 0:00:01\r\u001b[K     |██████████████████████▏         | 839 kB 12.2 MB/s eta 0:00:01\r\u001b[K     |██████████████████████▍         | 849 kB 12.2 MB/s eta 0:00:01\r\u001b[K     |██████████████████████▊         | 860 kB 12.2 MB/s eta 0:00:01\r\u001b[K     |███████████████████████         | 870 kB 12.2 MB/s eta 0:00:01\r\u001b[K     |███████████████████████▏        | 880 kB 12.2 MB/s eta 0:00:01\r\u001b[K     |███████████████████████▌        | 890 kB 12.2 MB/s eta 0:00:01\r\u001b[K     |███████████████████████▊        | 901 kB 12.2 MB/s eta 0:00:01\r\u001b[K     |████████████████████████        | 911 kB 12.2 MB/s eta 0:00:01\r\u001b[K     |████████████████████████▎       | 921 kB 12.2 MB/s eta 0:00:01\r\u001b[K     |████████████████████████▋       | 931 kB 12.2 MB/s eta 0:00:01\r\u001b[K     |████████████████████████▉       | 942 kB 12.2 MB/s eta 0:00:01\r\u001b[K     |█████████████████████████       | 952 kB 12.2 MB/s eta 0:00:01\r\u001b[K     |█████████████████████████▍      | 962 kB 12.2 MB/s eta 0:00:01\r\u001b[K     |█████████████████████████▋      | 972 kB 12.2 MB/s eta 0:00:01\r\u001b[K     |██████████████████████████      | 983 kB 12.2 MB/s eta 0:00:01\r\u001b[K     |██████████████████████████▏     | 993 kB 12.2 MB/s eta 0:00:01\r\u001b[K     |██████████████████████████▌     | 1.0 MB 12.2 MB/s eta 0:00:01\r\u001b[K     |██████████████████████████▊     | 1.0 MB 12.2 MB/s eta 0:00:01\r\u001b[K     |███████████████████████████     | 1.0 MB 12.2 MB/s eta 0:00:01\r\u001b[K     |███████████████████████████▎    | 1.0 MB 12.2 MB/s eta 0:00:01\r\u001b[K     |███████████████████████████▌    | 1.0 MB 12.2 MB/s eta 0:00:01\r\u001b[K     |███████████████████████████▉    | 1.1 MB 12.2 MB/s eta 0:00:01\r\u001b[K     |████████████████████████████    | 1.1 MB 12.2 MB/s eta 0:00:01\r\u001b[K     |████████████████████████████▍   | 1.1 MB 12.2 MB/s eta 0:00:01\r\u001b[K     |████████████████████████████▋   | 1.1 MB 12.2 MB/s eta 0:00:01\r\u001b[K     |████████████████████████████▉   | 1.1 MB 12.2 MB/s eta 0:00:01\r\u001b[K     |█████████████████████████████▏  | 1.1 MB 12.2 MB/s eta 0:00:01\r\u001b[K     |█████████████████████████████▍  | 1.1 MB 12.2 MB/s eta 0:00:01\r\u001b[K     |█████████████████████████████▊  | 1.1 MB 12.2 MB/s eta 0:00:01\r\u001b[K     |██████████████████████████████  | 1.1 MB 12.2 MB/s eta 0:00:01\r\u001b[K     |██████████████████████████████▎ | 1.1 MB 12.2 MB/s eta 0:00:01\r\u001b[K     |██████████████████████████████▌ | 1.2 MB 12.2 MB/s eta 0:00:01\r\u001b[K     |██████████████████████████████▊ | 1.2 MB 12.2 MB/s eta 0:00:01\r\u001b[K     |███████████████████████████████ | 1.2 MB 12.2 MB/s eta 0:00:01\r\u001b[K     |███████████████████████████████▎| 1.2 MB 12.2 MB/s eta 0:00:01\r\u001b[K     |███████████████████████████████▋| 1.2 MB 12.2 MB/s eta 0:00:01\r\u001b[K     |███████████████████████████████▉| 1.2 MB 12.2 MB/s eta 0:00:01\r\u001b[K     |████████████████████████████████| 1.2 MB 12.2 MB/s \n",
            "\u001b[?25hInstalling collected packages: sentencepiece\n",
            "Successfully installed sentencepiece-0.1.96\n"
          ]
        }
      ]
    },
    {
      "cell_type": "markdown",
      "source": [
        "using Mabart50\n",
        "MBart-50 is created using the original mbart-large-cc25 checkpoint by extendeding its embedding layers with randomly initialized vectors for an extra set of 25 language tokens and then pretrained on 50 languages.\n"
      ],
      "metadata": {
        "id": "0MXYC-KCxbO-"
      }
    },
    {
      "cell_type": "code",
      "source": [
        ""
      ],
      "metadata": {
        "id": "oDdqpRhLxZvH"
      },
      "execution_count": null,
      "outputs": []
    },
    {
      "cell_type": "code",
      "source": [
        "from transformers import MBartForConditionalGeneration, MBart50TokenizerFast"
      ],
      "metadata": {
        "id": "KVOwrxXapYdF"
      },
      "execution_count": null,
      "outputs": []
    },
    {
      "cell_type": "code",
      "source": [
        "tokenizer = MBart50TokenizerFast.from_pretrained(\"facebook/mbart-large-50-one-to-many-mmt\", src_lang=\"en_XX\")#getting pre-trained weight"
      ],
      "metadata": {
        "colab": {
          "base_uri": "https://localhost:8080/",
          "height": 145,
          "referenced_widgets": [
            "86301dc9732e45b98f721d6416fce7fe",
            "486fe3feaa574a08aad26392a92cc13e",
            "265b360db7724605a6fa127c5f6d3c55",
            "a6fabc0cc3d24dc79f36e5ca63de3f95",
            "a10656ac9663487b841d64541ca2f651",
            "b52fd94784d4418ead6433ac5e7be9b7",
            "7f67e65177d4409ab2891e5970371aba",
            "1ce75cb2570e48d2af95ebd6cc017e38",
            "0d0b2fde35e14168bda056ae42c493ec",
            "b050fb37cdd84e5ebee1f52e1bcc8298",
            "4f4f47f9683e4b2b92bad1df3761f2d7",
            "85b03d7bba24482b9723aef3f22f1cc1",
            "ff2ac2a598714dd8be642f262eab5694",
            "0b8ff19ab55e40eaadbc30c7401ede7a",
            "a80ab91ab3f84d91acea1bc46449f9c9",
            "745a713b87d840ea987c95d44623c17f",
            "f7636170c4874fafaebda9278fe06065",
            "7082b9516cdc424dbac93786f0776651",
            "6a63bc89a6d14d92b3e334f5479e776e",
            "e2047caf4c554fe88cc0b591ca18cc58",
            "744acd52bc8c4519b3bb480502e65236",
            "f997cf3a70e646e5ae841cdc22ccc632",
            "5ca0e4adba4e4db89ff4955fcda50628",
            "bbbd0cc160ae4182822e8acb2ba102ce",
            "8afc1606bf89446d88f92825e090df05",
            "4c10fd2124454ddcbb2997a960baaaa9",
            "402fdf571803486d9ff7b13870599be9",
            "0de5729a89d8479faed9d9ea4258df0f",
            "4772ba55685a4df2ba7c2aa0be46d151",
            "2170a13befcc47b9bfc76e1d65d8889c",
            "5021a9eb77b94ed59378e45357c93e84",
            "a20b548371b14090ba3d77c43ff2cbce",
            "89e4c935573f4ad8a2db5ba9177c8050",
            "b7277af02a094872b447bc637f9e4ce5",
            "ee5e4c4fc3654d72ac778688cf9450cf",
            "47e9b2ea5bed4e51b8898c01f8fba92c",
            "15252e224c7d48eaa60519f621ae8017",
            "1174d3288b294bc288b0435a67bfff3c",
            "46f4bfc8e8944bda8731c654f30062f8",
            "019d842d156045e2ad36f9ca4eaaa19a",
            "a196f32396614427a5294cc350c345d7",
            "dec3d074727c400fbf9d954455e50267",
            "f7534c1c8d1443b7ad95923204a397b8",
            "43ef858125af46a68ebbc60b86667d0f"
          ]
        },
        "id": "z61AQrzmpqct",
        "outputId": "62db0c66-06cc-441a-ae85-df72594208b5"
      },
      "execution_count": null,
      "outputs": [
        {
          "output_type": "display_data",
          "data": {
            "text/plain": [
              "Downloading:   0%|          | 0.00/528 [00:00<?, ?B/s]"
            ],
            "application/vnd.jupyter.widget-view+json": {
              "version_major": 2,
              "version_minor": 0,
              "model_id": "86301dc9732e45b98f721d6416fce7fe"
            }
          },
          "metadata": {}
        },
        {
          "output_type": "display_data",
          "data": {
            "text/plain": [
              "Downloading:   0%|          | 0.00/4.83M [00:00<?, ?B/s]"
            ],
            "application/vnd.jupyter.widget-view+json": {
              "version_major": 2,
              "version_minor": 0,
              "model_id": "85b03d7bba24482b9723aef3f22f1cc1"
            }
          },
          "metadata": {}
        },
        {
          "output_type": "display_data",
          "data": {
            "text/plain": [
              "Downloading:   0%|          | 0.00/717 [00:00<?, ?B/s]"
            ],
            "application/vnd.jupyter.widget-view+json": {
              "version_major": 2,
              "version_minor": 0,
              "model_id": "5ca0e4adba4e4db89ff4955fcda50628"
            }
          },
          "metadata": {}
        },
        {
          "output_type": "display_data",
          "data": {
            "text/plain": [
              "Downloading:   0%|          | 0.00/1.39k [00:00<?, ?B/s]"
            ],
            "application/vnd.jupyter.widget-view+json": {
              "version_major": 2,
              "version_minor": 0,
              "model_id": "b7277af02a094872b447bc637f9e4ce5"
            }
          },
          "metadata": {}
        }
      ]
    },
    {
      "cell_type": "code",
      "source": [
        "article_en =input() # getting user input"
      ],
      "metadata": {
        "colab": {
          "base_uri": "https://localhost:8080/"
        },
        "id": "YAfLxAV5qw0D",
        "outputId": "210c9d65-dcd6-41b4-867d-62961e151ae0"
      },
      "execution_count": null,
      "outputs": [
        {
          "name": "stdout",
          "output_type": "stream",
          "text": [
            "i am a boy\n"
          ]
        }
      ]
    },
    {
      "cell_type": "markdown",
      "source": [
        "Preprocessing of input text"
      ],
      "metadata": {
        "id": "osbQpn8eyjBg"
      }
    },
    {
      "cell_type": "code",
      "source": [
        "model = MBartForConditionalGeneration.from_pretrained(\"facebook/mbart-large-50-one-to-many-mmt\")"
      ],
      "metadata": {
        "id": "G3wLPUUGswL9"
      },
      "execution_count": null,
      "outputs": []
    },
    {
      "cell_type": "code",
      "source": [
        "model_inputs = tokenizer(article_en, return_tensors=\"pt\")"
      ],
      "metadata": {
        "id": "Jn6P94wSrQKq"
      },
      "execution_count": null,
      "outputs": []
    },
    {
      "cell_type": "markdown",
      "source": [
        "Using Model getting token and decoding it in target language "
      ],
      "metadata": {
        "id": "70MmGeg9ypeL"
      }
    },
    {
      "cell_type": "code",
      "source": [
        "generated_tokens = model.generate(\n",
        "    **model_inputs,\n",
        "    forced_bos_token_id=tokenizer.lang_code_to_id[\"hi_IN\"]# mention hindi as target language\n",
        ")\n"
      ],
      "metadata": {
        "id": "A31QRyuzrWRW"
      },
      "execution_count": null,
      "outputs": []
    },
    {
      "cell_type": "code",
      "source": [
        "translation = tokenizer.batch_decode(generated_tokens, skip_special_tokens=True)\n",
        "translation"
      ],
      "metadata": {
        "colab": {
          "base_uri": "https://localhost:8080/"
        },
        "id": "Gut2Tz5Vsk3X",
        "outputId": "efc5f8b7-8920-4786-ef72-ad003fe679ef"
      },
      "execution_count": null,
      "outputs": [
        {
          "output_type": "execute_result",
          "data": {
            "text/plain": [
              "['मैं एक लड़का हूँ']"
            ]
          },
          "metadata": {},
          "execution_count": 24
        }
      ]
    },
    {
      "cell_type": "code",
      "source": [
        ""
      ],
      "metadata": {
        "id": "n19zUorcta40"
      },
      "execution_count": null,
      "outputs": []
    }
  ]
}